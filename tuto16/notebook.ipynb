{
 "cells": [
  {
   "cell_type": "markdown",
   "metadata": {},
   "source": [
    "#### Importation de NumPy"
   ]
  },
  {
   "cell_type": "code",
   "execution_count": 1,
   "metadata": {},
   "outputs": [],
   "source": [
    "import numpy as np"
   ]
  },
  {
   "cell_type": "markdown",
   "metadata": {},
   "source": [
    "#### Création de Matrices avec NumPy"
   ]
  },
  {
   "cell_type": "markdown",
   "metadata": {},
   "source": [
    "Création de matrices simples"
   ]
  },
  {
   "cell_type": "code",
   "execution_count": 2,
   "metadata": {},
   "outputs": [
    {
     "name": "stdout",
     "output_type": "stream",
     "text": [
      "Matrice 2x3 :\n",
      "[[1 2 3]\n",
      " [4 5 6]]\n"
     ]
    }
   ],
   "source": [
    "# Création d'une matrice 2x3\n",
    "matrice_2x3 = np.array([[1, 2, 3], [4, 5, 6]])\n",
    "\n",
    "# Affichage de la matrice\n",
    "print(\"Matrice 2x3 :\")\n",
    "print(matrice_2x3)"
   ]
  },
  {
   "cell_type": "markdown",
   "metadata": {},
   "source": [
    "Création de matrices spéciales"
   ]
  },
  {
   "cell_type": "code",
   "execution_count": 3,
   "metadata": {},
   "outputs": [
    {
     "name": "stdout",
     "output_type": "stream",
     "text": [
      "Matrice Identité 3x3 :\n",
      "[[1. 0. 0.]\n",
      " [0. 1. 0.]\n",
      " [0. 0. 1.]]\n",
      "\n",
      "Matrice de Zeros 2x2 :\n",
      "[[0. 0.]\n",
      " [0. 0.]]\n",
      "\n",
      "Matrice de Ones 3x3 :\n",
      "[[1. 1. 1.]\n",
      " [1. 1. 1.]\n",
      " [1. 1. 1.]]\n"
     ]
    }
   ],
   "source": [
    "# Matrice identité 3x3\n",
    "matrice_identite = np.identity(3)\n",
    "\n",
    "# Matrice de zeros 2x2\n",
    "matrice_zeros = np.zeros((2, 2))\n",
    "\n",
    "# Matrice de ones 3x3\n",
    "matrice_ones = np.ones((3, 3))\n",
    "\n",
    "# Affichage des matrices spéciales\n",
    "print(\"Matrice Identité 3x3 :\")\n",
    "print(matrice_identite)\n",
    "\n",
    "print(\"\\nMatrice de Zeros 2x2 :\")\n",
    "print(matrice_zeros)\n",
    "\n",
    "print(\"\\nMatrice de Ones 3x3 :\")\n",
    "print(matrice_ones)"
   ]
  },
  {
   "cell_type": "markdown",
   "metadata": {},
   "source": [
    "#### Opérations Matricielles de Base"
   ]
  },
  {
   "cell_type": "markdown",
   "metadata": {},
   "source": [
    "Addition et Soustraction"
   ]
  },
  {
   "cell_type": "code",
   "execution_count": 4,
   "metadata": {},
   "outputs": [
    {
     "name": "stdout",
     "output_type": "stream",
     "text": [
      "Addition de Matrices :\n",
      "[[ 6  8]\n",
      " [10 12]]\n",
      "\n",
      "Soustraction de Matrices :\n",
      "[[-4 -4]\n",
      " [-4 -4]]\n"
     ]
    }
   ],
   "source": [
    "# Addition de deux matrices\n",
    "matrice_A = np.array([[1, 2], [3, 4]])\n",
    "matrice_B = np.array([[5, 6], [7, 8]])\n",
    "resultat_addition = matrice_A + matrice_B\n",
    "\n",
    "# Soustraction de deux matrices\n",
    "resultat_soustraction = matrice_A - matrice_B\n",
    "\n",
    "# Affichage des résultats\n",
    "print(\"Addition de Matrices :\")\n",
    "print(resultat_addition)\n",
    "\n",
    "print(\"\\nSoustraction de Matrices :\")\n",
    "print(resultat_soustraction)"
   ]
  },
  {
   "cell_type": "markdown",
   "metadata": {},
   "source": [
    "Multiplication par un scalaire"
   ]
  },
  {
   "cell_type": "code",
   "execution_count": 5,
   "metadata": {},
   "outputs": [
    {
     "name": "stdout",
     "output_type": "stream",
     "text": [
      "Multiplication par un Scalaire :\n",
      "[[2 4]\n",
      " [6 8]]\n"
     ]
    }
   ],
   "source": [
    "# Multiplication d'une matrice par un scalaire\n",
    "scalaire = 2\n",
    "resultat_multiplication_scalaire = scalaire * matrice_A\n",
    "\n",
    "# Affichage du résultat\n",
    "print(\"Multiplication par un Scalaire :\")\n",
    "print(resultat_multiplication_scalaire)"
   ]
  },
  {
   "cell_type": "markdown",
   "metadata": {},
   "source": [
    "Multiplication Matricielle"
   ]
  },
  {
   "cell_type": "code",
   "execution_count": 6,
   "metadata": {},
   "outputs": [
    {
     "name": "stdout",
     "output_type": "stream",
     "text": [
      "Multiplication Matricielle :\n",
      "[[19 22]\n",
      " [43 50]]\n"
     ]
    }
   ],
   "source": [
    "# Multiplication matricielle\n",
    "resultat_multiplication_matricielle = np.dot(matrice_A, matrice_B)\n",
    "\n",
    "# Affichage du résultat\n",
    "print(\"Multiplication Matricielle :\")\n",
    "print(resultat_multiplication_matricielle)"
   ]
  },
  {
   "cell_type": "markdown",
   "metadata": {},
   "source": [
    "#### Application Pratique - Analyse de Structures"
   ]
  },
  {
   "cell_type": "markdown",
   "metadata": {},
   "source": [
    "Supposons que nous ayons une matrice de rigidité K représentant les propriétés de rigidité d’une poutre. Nous avons également un vecteur de forces F appliquées à la poutre. Nous pouvons utiliser les calculs matriciels pour résoudre le système d’équations linéaires K.δ = F pour trouver les déformations (δ\t) de la poutre.\t"
   ]
  },
  {
   "cell_type": "code",
   "execution_count": 7,
   "metadata": {},
   "outputs": [
    {
     "name": "stdout",
     "output_type": "stream",
     "text": [
      "Déformations de la Poutre :\n",
      "[4.16666667 3.33333333]\n"
     ]
    }
   ],
   "source": [
    "# Matrice de rigidité K\n",
    "matrice_rigidite = np.array([[4, -2], [-2, 4]])\n",
    "\n",
    "# Vecteur de forces F\n",
    "vecteur_forces = np.array([10, 5])\n",
    "\n",
    "# Résolution du système linéaire K * delta = F\n",
    "deformations = np.linalg.solve(matrice_rigidite, vecteur_forces)\n",
    "\n",
    "# Affichage des déformations\n",
    "print(\"Déformations de la Poutre :\")\n",
    "print(deformations)"
   ]
  },
  {
   "cell_type": "markdown",
   "metadata": {},
   "source": [
    "#### Autres Opérations Matricielles avec NumPy"
   ]
  },
  {
   "cell_type": "markdown",
   "metadata": {},
   "source": [
    "Transposition d'une Matrice"
   ]
  },
  {
   "cell_type": "code",
   "execution_count": 8,
   "metadata": {},
   "outputs": [
    {
     "name": "stdout",
     "output_type": "stream",
     "text": [
      "Matrice d'Origine :\n",
      "[[1 2 3]\n",
      " [4 5 6]]\n",
      "\n",
      "Matrice Transposée :\n",
      "[[1 4]\n",
      " [2 5]\n",
      " [3 6]]\n"
     ]
    }
   ],
   "source": [
    "# Transposition d'une matrice\n",
    "matrice_A = np.array([[1, 2, 3], [4, 5, 6]])\n",
    "matrice_transposee = np.transpose(matrice_A)\n",
    "\n",
    "# Affichage du résultat\n",
    "print(\"Matrice d'Origine :\")\n",
    "print(matrice_A)\n",
    "\n",
    "print(\"\\nMatrice Transposée :\")\n",
    "print(matrice_transposee)"
   ]
  },
  {
   "cell_type": "markdown",
   "metadata": {},
   "source": [
    "Calcul du Déterminant"
   ]
  },
  {
   "cell_type": "markdown",
   "metadata": {},
   "source": [
    "Le déterminant d'une matrice carrée est un nombre qui peut être utilisé pour déterminer si la matrice est inversible."
   ]
  },
  {
   "cell_type": "code",
   "execution_count": 9,
   "metadata": {},
   "outputs": [
    {
     "name": "stdout",
     "output_type": "stream",
     "text": [
      "Matrice Carrée :\n",
      "[[2 3]\n",
      " [1 4]]\n",
      "\n",
      "Déterminant : 5.000000000000001\n"
     ]
    }
   ],
   "source": [
    "# Calcul du déterminant\n",
    "matrice_carree = np.array([[2, 3], [1, 4]])\n",
    "determinant = np.linalg.det(matrice_carree)\n",
    "\n",
    "# Affichage du résultat\n",
    "print(\"Matrice Carrée :\")\n",
    "print(matrice_carree)\n",
    "\n",
    "print(f\"\\nDéterminant : {determinant}\")"
   ]
  },
  {
   "cell_type": "markdown",
   "metadata": {},
   "source": [
    "Calcul de l'Inverse d'une matrice carrée"
   ]
  },
  {
   "cell_type": "code",
   "execution_count": 10,
   "metadata": {},
   "outputs": [
    {
     "name": "stdout",
     "output_type": "stream",
     "text": [
      "Matrice Inversible :\n",
      "[[4 7]\n",
      " [2 6]]\n",
      "\n",
      "Matrice Inverse :\n",
      "[[ 0.6 -0.7]\n",
      " [-0.2  0.4]]\n"
     ]
    }
   ],
   "source": [
    "# Calcul de l'inverse\n",
    "matrice_inversible = np.array([[4, 7], [2, 6]])\n",
    "matrice_inverse = np.linalg.inv(matrice_inversible)\n",
    "\n",
    "# Affichage des résultats\n",
    "print(\"Matrice Inversible :\")\n",
    "print(matrice_inversible)\n",
    "\n",
    "print(\"\\nMatrice Inverse :\")\n",
    "print(matrice_inverse)"
   ]
  },
  {
   "cell_type": "markdown",
   "metadata": {},
   "source": [
    "Valeurs Propres et Vecteurs Propres"
   ]
  },
  {
   "cell_type": "code",
   "execution_count": 11,
   "metadata": {},
   "outputs": [
    {
     "name": "stdout",
     "output_type": "stream",
     "text": [
      "Matrice Symétrique :\n",
      "[[5 2]\n",
      " [2 3]]\n",
      "\n",
      "Valeurs Propres :\n",
      "[6.23606798 1.76393202]\n",
      "\n",
      "Vecteurs Propres :\n",
      "[[ 0.85065081 -0.52573111]\n",
      " [ 0.52573111  0.85065081]]\n"
     ]
    }
   ],
   "source": [
    "# Calcul des valeurs propres et vecteurs propres\n",
    "matrice_symetrique = np.array([[5, 2], [2, 3]])\n",
    "valeurs_propres, vecteurs_propres = np.linalg.eig(matrice_symetrique)\n",
    "\n",
    "# Affichage des résultats\n",
    "print(\"Matrice Symétrique :\")\n",
    "print(matrice_symetrique)\n",
    "\n",
    "print(\"\\nValeurs Propres :\")\n",
    "print(valeurs_propres)\n",
    "\n",
    "print(\"\\nVecteurs Propres :\")\n",
    "print(vecteurs_propres)"
   ]
  },
  {
   "cell_type": "markdown",
   "metadata": {},
   "source": [
    "#### Cas d'Usage en Génie Civil"
   ]
  },
  {
   "cell_type": "markdown",
   "metadata": {},
   "source": [
    "Analyse de Structures avec la Méthode des Éléments Finis\n",
    "Les calculs matriciels sont fondamentaux dans la méthode des éléments finis pour résoudre des problèmes de structures complexes. Par exemple, la matrice de rigidité d'un élément fini peut être utilisée pour assembler la matrice globale de rigidité d'une structure."
   ]
  },
  {
   "cell_type": "code",
   "execution_count": 12,
   "metadata": {},
   "outputs": [
    {
     "name": "stdout",
     "output_type": "stream",
     "text": [
      "Matrice Globale de Rigidité :\n",
      "[[ 2. -1.  0.  0.]\n",
      " [-1.  2.  0.  0.]\n",
      " [ 0.  0.  0.  0.]\n",
      " [ 0.  0.  0.  0.]]\n"
     ]
    }
   ],
   "source": [
    "# Matrice de rigidité d'un élément fini\n",
    "matrice_rigidite_element = np.array([[2, -1], [-1, 2]])\n",
    "\n",
    "# Assemblage de la matrice globale de rigidité\n",
    "matrice_globale_rigidite = np.zeros((4, 4))\n",
    "\n",
    "# Assemblage de la matrice (par exemple, élément à gauche en haut)\n",
    "matrice_globale_rigidite[:2, :2] += matrice_rigidite_element\n",
    "\n",
    "# Affichage de la matrice globale de rigidité\n",
    "print(\"Matrice Globale de Rigidité :\")\n",
    "print(matrice_globale_rigidite)"
   ]
  },
  {
   "cell_type": "markdown",
   "metadata": {},
   "source": [
    "**Analyse de Réseaux de Conduites**\n",
    "\n",
    "Les ingénieurs en génie civil peuvent utiliser des calculs matriciels pour modéliser et analyser des réseaux de conduites dans les systèmes d'approvisionnement en eau ou les réseaux de distribution de gaz."
   ]
  },
  {
   "cell_type": "code",
   "execution_count": 13,
   "metadata": {},
   "outputs": [
    {
     "name": "stdout",
     "output_type": "stream",
     "text": [
      "Matrice des Coefficients :\n",
      "[[ 2 -1  0]\n",
      " [-1  2 -1]\n",
      " [ 0 -1  1]]\n",
      "\n",
      "Vecteur des Débits :\n",
      "[10  0  5]\n",
      "\n",
      "Vecteur des Pressions :\n",
      "[15. 20. 25.]\n"
     ]
    }
   ],
   "source": [
    "# Exemple simple de réseau de conduites\n",
    "matrice_coefficients = np.array([[2, -1, 0], [-1, 2, -1], [0, -1, 1]])\n",
    "vecteur_débits = np.array([10, 0, 5])\n",
    "\n",
    "# Résolution du système d'équations linéaires pour les débits\n",
    "vecteur_pressions = np.linalg.solve(matrice_coefficients, vecteur_débits)\n",
    "\n",
    "# Affichage des résultats\n",
    "print(\"Matrice des Coefficients :\")\n",
    "print(matrice_coefficients)\n",
    "\n",
    "print(\"\\nVecteur des Débits :\")\n",
    "print(vecteur_débits)\n",
    "\n",
    "print(\"\\nVecteur des Pressions :\")\n",
    "print(vecteur_pressions)"
   ]
  }
 ],
 "metadata": {
  "kernelspec": {
   "display_name": "Python 3",
   "language": "python",
   "name": "python3"
  },
  "language_info": {
   "codemirror_mode": {
    "name": "ipython",
    "version": 3
   },
   "file_extension": ".py",
   "mimetype": "text/x-python",
   "name": "python",
   "nbconvert_exporter": "python",
   "pygments_lexer": "ipython3",
   "version": "3.10.12"
  }
 },
 "nbformat": 4,
 "nbformat_minor": 2
}
